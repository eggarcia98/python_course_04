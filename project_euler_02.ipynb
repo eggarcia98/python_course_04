{
  "cells": [
    {
      "attachments": {},
      "cell_type": "markdown",
      "metadata": {
        "colab_type": "text",
        "id": "view-in-github"
      },
      "source": [
        "<a href=\"https://colab.research.google.com/github/eggarcia98/python_course_04/blob/main/project_euler_02.ipynb\" target=\"_parent\"><img src=\"https://colab.research.google.com/assets/colab-badge.svg\" alt=\"Open In Colab\"/></a>"
      ]
    },
    {
      "cell_type": "code",
      "execution_count": null,
      "metadata": {},
      "outputs": [],
      "source": [
        "pip install numpy"
      ]
    },
    {
      "attachments": {},
      "cell_type": "markdown",
      "metadata": {
        "id": "s22wqAjh9q0p"
      },
      "source": [
        "1. Work out the first ten digits of the sum of the following one-hundred 50-digit numbers.\n",
        "\n",
        "The file is in the directory ./resources/one-hundred-numbers.txt"
      ]
    },
    {
      "cell_type": "code",
      "execution_count": null,
      "metadata": {
        "id": "qa1a23Tj9q0u"
      },
      "outputs": [],
      "source": [
        "first_ten_digits = \"\"\n",
        "\n",
        "with open(\"./resources/one-hundred-numbers.txt\", \"r\") as file:\n",
        "    lines = file.readlines()\n",
        "    numbers = [int(x.strip()) for x in lines]\n",
        "    total = sum(numbers)\n",
        "    first_ten_digits = str(total)[:10]\n",
        "\n",
        "print(f\"The First Ten Numbers of Total are: {first_ten_digits}\")"
      ]
    },
    {
      "attachments": {},
      "cell_type": "markdown",
      "metadata": {
        "id": "b-HEFWN89q0v"
      },
      "source": [
        "2.\n",
        "\n",
        "The following iterative sequence is defined for the set of positive integers:\n",
        "\n",
        "n → n/2 (n is even)\n",
        "n → 3n + 1 (n is odd)\n",
        "\n",
        "Using the rule above and starting with 13, we generate the following sequence:\n",
        "13 → 40 → 20 → 10 → 5 → 16 → 8 → 4 → 2 → 1\n",
        "\n",
        "It can be seen that this sequence (starting at 13 and finishing at 1) contains 10 terms. Although it has not been proved yet (Collatz Problem), it is thought that all starting numbers finish at 1.\n",
        "\n",
        "Which starting number, under one million, produces the longest chain?\n",
        "\n",
        "NOTE: Once the chain starts the terms are allowed to go above one million.\n"
      ]
    },
    {
      "cell_type": "code",
      "execution_count": null,
      "metadata": {
        "id": "8-T_1TLw9q0w"
      },
      "outputs": [],
      "source": [
        "def get_collatz_length(n): \n",
        "\tarr=[]\n",
        "\twhile n >1:\n",
        "\t\tarr.append(n)\n",
        "\t\tif (n%2):\n",
        "\t\t\tn=3*n+1\n",
        "\n",
        "\t\telse:\n",
        "\t\t\tn=n//2\n",
        "\n",
        "\treturn(len(arr)+1)\n",
        "\n",
        "number = max(range(2, 1000000), key=get_collatz_length)\n",
        "print(f\"The number {number} have the longest chain of Collatz with a len of {get_collatz_length(number)}\")"
      ]
    },
    {
      "attachments": {},
      "cell_type": "markdown",
      "metadata": {
        "id": "iw2_ie-M9q0w"
      },
      "source": [
        "3.\n",
        "\n",
        "2^15 = 32768 and the sum of its digits is 3 + 2 + 7 + 6 + 8 = 26.\n",
        "\n",
        "What is the sum of the digits of the number 2^1000?\n"
      ]
    },
    {
      "cell_type": "code",
      "execution_count": null,
      "metadata": {
        "id": "MW8xI3tq9q0x"
      },
      "outputs": [],
      "source": [
        "import functools\n",
        "\n",
        "def sum_of_digits(number):\n",
        "    str_number = str(number)\n",
        "    sum_of_numbers = functools.reduce(lambda a, char_digit: a + int(char_digit), str_number, 0)\n",
        "    return sum_of_numbers\n",
        "\n",
        "base = 2\n",
        "exponent = 10000\n",
        "\n",
        "number = pow(base, exponent)\n",
        "print(f\"Te sum of the digits of the number {base}^{exponent} is {sum_of_digits(number)}\")\n",
        "\n"
      ]
    },
    {
      "attachments": {},
      "cell_type": "markdown",
      "metadata": {
        "id": "x2649kHH9q0y"
      },
      "source": [
        "4. If the numbers 1 to 5 are written out in words: one, two, three, four, five, then there are 3 + 3 + 5 + 4 + 4 = 19 letters used in total.\n",
        "\n",
        "If all the numbers from 1 to 1000 (one thousand) inclusive were written out in words, how many letters would be used?\n",
        "\n",
        "NOTE: Do not count spaces or hyphens. For example, 342 (three hundred and forty-two) contains 23 letters and 115 (one hundred and fifteen) contains 20 letters. The use of \"and\" when writing out numbers is in compliance with British usage.\n"
      ]
    },
    {
      "cell_type": "code",
      "execution_count": null,
      "metadata": {
        "id": "D_a8NoE89q0y"
      },
      "outputs": [],
      "source": [
        "from num2words import num2words\n",
        "import functools\n",
        "\n",
        "def calculate_word_number_length(number):\n",
        "    word_number = num2words(number, lang=\"en_GB\")\n",
        "    word_number_cleaned = word_number.replace(\"-\", \"\").replace(\" \", \"\")\n",
        "    return len(word_number_cleaned)\n",
        "\n",
        "numbers = list(range(1,1001))\n",
        "total_letters = functools.reduce(lambda a,b: a + calculate_word_number_length(b), numbers, 0)\n",
        "print(f\"{total_letters} used in total\")\n"
      ]
    },
    {
      "attachments": {},
      "cell_type": "markdown",
      "metadata": {
        "id": "KD9spUO09q00"
      },
      "source": [
        "5.\n",
        "\n",
        "You are given the following information, but you may prefer to do some research for yourself.\n",
        "\n",
        "    1 Jan 1900 was a Monday.\n",
        "    Thirty days has September,\n",
        "    April, June and November.\n",
        "    All the rest have thirty-one,\n",
        "    Saving February alone,\n",
        "    Which has twenty-eight, rain or shine.\n",
        "    And on leap years, twenty-nine.\n",
        "    A leap year occurs on any year evenly divisible by 4, but not on a century unless it is divisible by 400.\n",
        "\n",
        "How many Sundays fell on the first of the month during the twentieth century (1 Jan 1901 to 31 Dec 2000)?\n"
      ]
    },
    {
      "cell_type": "code",
      "execution_count": null,
      "metadata": {
        "id": "8Hn7MXCr9q02"
      },
      "outputs": [],
      "source": [
        "import datetime\n",
        "\n",
        "year_range = list(range(1901, 2000 + 1))\n",
        "\n",
        "def get_last_day_of_month(any_day):\n",
        "    # The day 28 exists in every month. 4 days later, it's always next month\n",
        "    next_month = any_day.replace(day=28) + datetime.timedelta(days=4)\n",
        "    # subtracting the number of the current day brings us back one month\n",
        "    return next_month - datetime.timedelta(days=next_month.day)\n",
        "\n",
        "sundays_count = 0\n",
        "for year in year_range:\n",
        "    for month in range(1, 13):\n",
        "        first_date_of_month = datetime.date(year, month, 1)\n",
        "        first_weekday_of_month = first_date_of_month.weekday()\n",
        "\n",
        "        if(first_weekday_of_month == 6):\n",
        "            sundays_count += 1\n",
        "\n",
        "\n",
        "print(f\"Number of Sundays on the first of the month during the twentieth century: {sundays_count}\")"
      ]
    },
    {
      "attachments": {},
      "cell_type": "markdown",
      "metadata": {
        "id": "NN3GF4Iz9q03"
      },
      "source": [
        "6.\n",
        "\n",
        "n! means n × (n − 1) × ... × 3 × 2 × 1\n",
        "\n",
        "For example, 10! = 10 × 9 × ... × 3 × 2 × 1 = 3628800,\n",
        "and the sum of the digits in the number 10! is 3 + 6 + 2 + 8 + 8 + 0 + 0 = 27.\n",
        "\n",
        "Find the sum of the digits in the number 100!\n"
      ]
    },
    {
      "cell_type": "code",
      "execution_count": null,
      "metadata": {
        "id": "zmerpcSo9q04"
      },
      "outputs": [],
      "source": [
        "def factorial(number):\n",
        "    result = 1\n",
        "    for n in range(1, number + 1):\n",
        "        result *= n\n",
        "    \n",
        "    return result\n",
        "\n",
        "number = 100\n",
        "factorial_of_n = factorial(number)\n",
        "sum_Of_digits = sum_of_digits(factorial_of_n)\n",
        "print(f\"The sum of digits of factorial of {number} is: {sum_Of_digits}\")"
      ]
    },
    {
      "attachments": {},
      "cell_type": "markdown",
      "metadata": {
        "id": "fvfwZZu39q05"
      },
      "source": [
        "7.\n",
        "\n",
        "Let d(n) be defined as the sum of proper divisors of n (numbers less than n which divide evenly into n).\n",
        "If d(a) = b and d(b) = a, where a ≠ b, then a and b are an amicable pair and each of a and b are called amicable numbers.\n",
        "\n",
        "For example, the proper divisors of 220 are 1, 2, 4, 5, 10, 11, 20, 22, 44, 55 and 110; therefore d(220) = 284. The proper divisors of 284 are 1, 2, 4, 71 and 142; so d(284) = 220.\n",
        "\n",
        "Evaluate the sum of all the amicable numbers under 10000.\n"
      ]
    },
    {
      "cell_type": "code",
      "execution_count": null,
      "metadata": {
        "id": "JPhrR2OJ9q05"
      },
      "outputs": [],
      "source": [
        "import numpy as np\n",
        "\n",
        "def get_sum_of_divisors(number):\n",
        "    list_of_numbers = list(range(1, number))\n",
        "    divisors = filter(lambda x: number % x == 0, list_of_numbers)\n",
        "    return sum(list(divisors))\n",
        "\n",
        "def is_amicable_number(a,b):\n",
        "    sum_divisors_of_b = get_sum_of_divisors(b)\n",
        "    return sum_divisors_of_b == a\n",
        "\n",
        "print(get_sum_of_divisors(284))\n",
        "\n",
        "amicable_pair_numbers = []\n",
        "pair_found = []\n",
        "for a in range(1, 10001):\n",
        "    b = get_sum_of_divisors(a)\n",
        "\n",
        "    \n",
        "    if b in pair_found:\n",
        "        continue\n",
        "\n",
        "    if a != b and is_amicable_number(a, b) :\n",
        "        pair_found.append(a)\n",
        "        amicable_pair_numbers.append([a,b])\n",
        "\n",
        "amicable_numbers = list(np.array(amicable_pair_numbers).flatten())\n",
        "print(f\"The amicable pair numbers are {amicable_pair_numbers} and the sum of all is {sum(amicable_numbers)}\")\n",
        "    "
      ]
    },
    {
      "attachments": {},
      "cell_type": "markdown",
      "metadata": {
        "id": "N7cYK2Rk9q05"
      },
      "source": [
        "8.\n",
        "\n",
        "A perfect number is a number for which the sum of its proper divisors is exactly equal to the number. For example, the sum of the proper divisors of 28 would be 1 + 2 + 4 + 7 + 14 = 28, which means that 28 is a perfect number.\n",
        "\n",
        "A number n is called deficient if the sum of its proper divisors is less than n and it is called abundant if this sum exceeds n.\n",
        "\n",
        "As 12 is the smallest abundant number, 1 + 2 + 3 + 4 + 6 = 16, the smallest number that can be written as the sum of two abundant numbers is 24. By mathematical analysis, it can be shown that all integers greater than 28123 can be written as the sum of two abundant numbers. However, this upper limit cannot be reduced any further by analysis even though it is known that the greatest number that cannot be expressed as the sum of two abundant numbers is less than this limit.\n",
        "\n",
        "Find the sum of all the positive integers which cannot be written as the sum of two abundant numbers.\n"
      ]
    },
    {
      "cell_type": "code",
      "execution_count": null,
      "metadata": {
        "id": "3OoTvw8k9q06"
      },
      "outputs": [],
      "source": [
        "def is_abundant(n):\n",
        "    divisors_sum = sum(i for i in range(1, n//2 + 1) if n % i == 0)\n",
        "    return divisors_sum > n\n",
        "\n",
        "def find_abundant_numbers(limit):\n",
        "    abundant_numbers = []\n",
        "    for n in range(1, limit+1):\n",
        "        if is_abundant(n):\n",
        "            abundant_numbers.append(n)\n",
        "    return abundant_numbers\n",
        "\n",
        "def find_non_abundant_sums(limit):\n",
        "    abundant_numbers = find_abundant_numbers(limit)\n",
        "    abundant_sums = set()\n",
        "    for i in range(len(abundant_numbers)):\n",
        "        for j in range(i, len(abundant_numbers)):\n",
        "            abundant_sums.add(abundant_numbers[i] + abundant_numbers[j])\n",
        "    non_abundant_sums = set(range(1, limit+1)) - abundant_sums\n",
        "    print(non_abundant_sums)\n",
        "    return sum(non_abundant_sums)\n",
        "\n",
        "# Calculate the sum of all positive integers that cannot be written as the sum of two abundant numbers\n",
        "limit = 28123\n",
        "result = find_non_abundant_sums(limit)\n",
        "\n",
        "print(\"Sum of all positive integers that cannot be written as the sum of two abundant numbers:\", result)\n"
      ]
    },
    {
      "attachments": {},
      "cell_type": "markdown",
      "metadata": {
        "id": "g4n8rAjX9q06"
      },
      "source": [
        "9.\n",
        "\n",
        "A permutation is an ordered arrangement of objects. For example, 3124 is one possible permutation of the digits 1, 2, 3 and 4. If all of the permutations are listed numerically or alphabetically, we call it lexicographic order. The lexicographic permutations of 0, 1 and 2 are:\n",
        "\n",
        "012   021   102   120   201   210\n",
        "\n",
        "What is the millionth lexicographic permutation of the digits 0, 1, 2, 3, 4, 5, 6, 7, 8 and 9?\n"
      ]
    },
    {
      "cell_type": "code",
      "execution_count": null,
      "metadata": {},
      "outputs": [],
      "source": [
        "def lexicographic_permutation(numbers):\n",
        "    if len(numbers) == 1:\n",
        "        return [numbers]\n",
        "\n",
        "    permutations = []\n",
        "    for i in range(len(numbers)):\n",
        "        current_number = numbers[i]\n",
        "\n",
        "        remaining = numbers[:i] + numbers[i+1:]\n",
        "        sub_permutations = lexicographic_permutation(remaining)\n",
        "\n",
        "        for sub_permutation in sub_permutations:\n",
        "            permutations.append([current_number] + sub_permutation)\n",
        "\n",
        "    return permutations\n",
        "\n",
        "numbers = list(range(9+1))\n",
        "result = lexicographic_permutation(numbers)\n",
        "\n",
        "print(f\"the millionth lexicographic permutation is: {result}\")\n"
      ]
    },
    {
      "attachments": {},
      "cell_type": "markdown",
      "metadata": {
        "id": "PxOlFkP-9q08"
      },
      "source": [
        "10.\n",
        "\n",
        "A unit fraction contains 1 in the numerator. The decimal representation of the unit fractions with denominators 2 to 10 are given:\n",
        "\n",
        "    1/2\t= \t0.5\n",
        "    1/3\t= \t0.(3)\n",
        "    1/4\t= \t0.25\n",
        "    1/5\t= \t0.2\n",
        "    1/6\t= \t0.1(6)\n",
        "    1/7\t= \t0.(142857)\n",
        "    1/8\t= \t0.125\n",
        "    1/9\t= \t0.(1)\n",
        "    1/10\t= \t0.1\n",
        "\n",
        "Where 0.1(6) means 0.166666..., and has a 1-digit recurring cycle. It can be seen that 1/7 has a 6-digit recurring cycle.\n",
        "\n",
        "Find the value of d < 1000 for which 1/d contains the longest recurring cycle in its decimal fraction part.\n"
      ]
    },
    {
      "cell_type": "code",
      "execution_count": null,
      "metadata": {
        "id": "KYG4nT3u9q09"
      },
      "outputs": [],
      "source": [
        "def is_recurring_cycle(list_of_cycles):\n",
        "    first_pattern = list_of_cycles[0]\n",
        "\n",
        "    def same_string(string):\n",
        "        if string == first_pattern:\n",
        "            return 1\n",
        "        \n",
        "        return 0\n",
        "    \n",
        "    coincidence_map = list(map(same_string, list_of_cycles))\n",
        "    if (len(list_of_cycles) - 1 <= sum((coincidence_map)) >= 2):\n",
        "        return True\n",
        "\n",
        "    return False\n",
        "\n",
        "def split_decimal_fraction_part(n, decimal_fraction_part):\n",
        "    return [(decimal_fraction_part[i:i+n]) for i in range(0, len(decimal_fraction_part), n)]\n",
        "\n",
        "def get_decimal_periods(fraction):\n",
        "    cycle = \"\"\n",
        "    decimal_fraction_part = str(fraction).split(\".\")[1]\n",
        "\n",
        "    for cycle_size in range(1, len(decimal_fraction_part) + 1):\n",
        "        list_of_cycles = split_decimal_fraction_part(cycle_size, decimal_fraction_part)\n",
        "        if is_recurring_cycle(list_of_cycles):\n",
        "            cycle = list_of_cycles[0]\n",
        "            break\n",
        "\n",
        "    return cycle\n",
        "\n",
        "denominators = range(1, 1000 + 1)\n",
        "\n",
        "longest_number_data = {}\n",
        "longest_number = 0\n",
        "for denominator in denominators:\n",
        "    cycle = get_decimal_periods(1/denominator)\n",
        "    if len(cycle) > longest_number:\n",
        "        longest_number = len(cycle)\n",
        "        longest_number_data =  {\n",
        "            \"unit_fraction\": f\"1/{denominator}\",\n",
        "            \"decimal_representation\": 1/denominator,\n",
        "            \"cycle\": cycle, \n",
        "            \"len\": longest_number\n",
        "        }\n",
        "\n",
        "print(longest_number_data)"
      ]
    }
  ],
  "metadata": {
    "colab": {
      "include_colab_link": true,
      "provenance": []
    },
    "kernelspec": {
      "display_name": "Python 3",
      "language": "python",
      "name": "python3"
    },
    "language_info": {
      "codemirror_mode": {
        "name": "ipython",
        "version": 3
      },
      "file_extension": ".py",
      "mimetype": "text/x-python",
      "name": "python",
      "nbconvert_exporter": "python",
      "pygments_lexer": "ipython3",
      "version": "3.10.6"
    },
    "orig_nbformat": 4,
    "vscode": {
      "interpreter": {
        "hash": "f7a5be651532581cb44625d52e18aa1d390cab54bc6b51099d8c30bea9b68219"
      }
    }
  },
  "nbformat": 4,
  "nbformat_minor": 0
}
