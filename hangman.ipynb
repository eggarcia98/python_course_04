{
 "cells": [
  {
   "cell_type": "code",
   "execution_count": null,
   "metadata": {},
   "outputs": [],
   "source": [
    "'''\n",
    "The hangman game is a word guessing game where the player is given a word and has to guess the letters that make up the word. \n",
    "The player is given a certain number of tries (no more than 6 wrong guesses are allowed) to guess the correct letters before the game is over.\n",
    "'''\n",
    "\n",
    "# Output\n",
    "'''\n",
    "You have 6 tries left.                                                                                                                                           \n",
    "Used letters:                                                                                                                                                    \n",
    "Word: _ _ _ _                                                                                                                                                    \n",
    "Guess a letter: a \n",
    "\n",
    "You have 6 tries left.                                                                                                                                           \n",
    "Used letters: a                                                                                                                                                  \n",
    "Word: _ a _ a                                                                                                                                                    \n",
    "Guess a letter: j    \n",
    "\n",
    "You have 6 tries left.                                                                                                                                           \n",
    "Used letters: j a                                                                                                                                                \n",
    "Word: j a _ a                                                                                                                                                    \n",
    "Guess a letter: v                                                                                                                                                \n",
    "You guessed the word java !\n",
    "'''"
   ]
  },
  {
   "cell_type": "code",
   "execution_count": 1,
   "metadata": {},
   "outputs": [
    {
     "name": "stdout",
     "output_type": "stream",
     "text": [
      "You have 5 tries left.\n",
      "Used letters: r\n",
      "Word: ____\n",
      "Guess a letter: r\n",
      "\n",
      "You have 5 tries left.\n",
      "Used letters: h, r\n",
      "Word: h___\n",
      "Guess a letter: h\n",
      "\n",
      "You have 5 tries left.\n",
      "Used letters: h, o, r\n",
      "Word: ho__\n",
      "Guess a letter: o\n",
      "\n",
      "Invalid input. Please enter a single lowercase letter.\n",
      "Invalid input. Please enter a single lowercase letter.\n"
     ]
    }
   ],
   "source": [
    "    import re\n",
    "\n",
    "    word_to_guess = \"home\"\n",
    "    pattern = r'[a-z]' \n",
    "\n",
    "    used_letters = set()\n",
    "    guessed_letters = set()\n",
    "    word_guessed = \"_\"*len(word_to_guess)\n",
    "\n",
    "    tries = 6\n",
    "\n",
    "    while tries != 0:\n",
    "\n",
    "        guess = input(\"Enter a letter: \")\n",
    "\n",
    "        if not re.match(r'[a-z]', guess):\n",
    "            print(\"Invalid input. Please enter a single lowercase letter.\")\n",
    "            continue\n",
    "\n",
    "        if guess in guessed_letters or guess in used_letters:\n",
    "            print(\"You've already used that letter. Enter another letter.\")\n",
    "            continue\n",
    "\n",
    "        if guess in word_to_guess:\n",
    "            guessed_letters.add(guess)\n",
    "            word_guessed = ''.join([c if c in guessed_letters else '_' for c in word_to_guess])\n",
    "        else: \n",
    "            tries -= 1\n",
    "\n",
    "        used_letters.add(guess)\n",
    "\n",
    "        print(f\"You have {tries} tries left.\\nUsed letters: {', '.join(list(used_letters))}\\nWord: {word_guessed}\\nGuess a letter: {guess}\\n\")\n",
    "\n",
    "        if word_guessed == word_to_guess:\n",
    "            break\n",
    "\n",
    "    if tries == 0:\n",
    "        print(f\"You lose!. The word was {word_to_guess}.\")\n",
    "    else:\n",
    "        print(f\"You guessed the word {word_to_guess} !!\")\n",
    "\n"
   ]
  }
 ],
 "metadata": {
  "kernelspec": {
   "display_name": "Python 3",
   "language": "python",
   "name": "python3"
  },
  "language_info": {
   "codemirror_mode": {
    "name": "ipython",
    "version": 3
   },
   "file_extension": ".py",
   "mimetype": "text/x-python",
   "name": "python",
   "nbconvert_exporter": "python",
   "pygments_lexer": "ipython3",
   "version": "3.10.6"
  },
  "orig_nbformat": 4
 },
 "nbformat": 4,
 "nbformat_minor": 2
}
